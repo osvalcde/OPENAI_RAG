{
 "cells": [
  {
   "cell_type": "code",
   "execution_count": null,
   "metadata": {},
   "outputs": [],
   "source": [
    "#pip install langchain langchain_openai gradio chromadb pypdf langchain-community\n",
    "#langchain es un framework para trabajar con modelos de lenguaje\n",
    "#langchain_openai es una extensión de langchain para trabajar con la API de OpenAI\n",
    "#gradio es una librería para crear interfaces de usuario que nos permite crear testing rapido\n",
    "#chromadb es una librería que nos permite crear bases de datos vectoriales bajo SQLite\n",
    "#pypdf es una librería para trabajar con archivos PDF"
   ]
  },
  {
   "cell_type": "markdown",
   "metadata": {},
   "source": [
    "### LIBRERIAS NECESARIAS"
   ]
  },
  {
   "cell_type": "code",
   "execution_count": 61,
   "metadata": {},
   "outputs": [],
   "source": [
    "from langchain_community.document_loaders import PyPDFLoader\n",
    "from langchain.vectorstores import Chroma \n",
    "from langchain.prompts import PromptTemplate\n",
    "from langchain_openai import ChatOpenAI, OpenAIEmbeddings\n",
    "from langchain_core.output_parsers import StrOutputParser\n",
    "from langchain_core.runnables import RunnablePassthrough\n",
    "import gradio as gr\n",
    "#import openai\n",
    "#import os\n",
    "from dotenv import load_dotenv\n",
    "import warnings\n",
    "warnings.filterwarnings(\"ignore\") # Ignorar todos los warnings"
   ]
  },
  {
   "cell_type": "markdown",
   "metadata": {},
   "source": [
    "#### DOCUMENTACION"
   ]
  },
  {
   "cell_type": "code",
   "execution_count": 66,
   "metadata": {},
   "outputs": [],
   "source": [
    "pdf1 = r\"https://www.boe.es/boe/dias/2022/09/29/pdfs/BOE-A-2022-15818.pdf\"\n",
    "pdf2 = r\"https://www.camara.es/sites/default/files/publicaciones/fiscalidad03.pdf\"\n",
    "pdf3 = r\"https://mpt.gob.es/dam/es/portal/delegaciones_gobierno/delegaciones/madrid/proyectos-ci/Guia-de-Subvenciones-y-Ayudas/231103_Guia_de_Subvenciones_Ayudas_PRTR.pdf.pdf\"\n",
    "pdf4 = r\"https://boe.es/buscar/pdf/2014/BOE-A-2014-12328-consolidado.pdf\"\n",
    "pdf5 = r\"https://www.aepd.es/guias/gestion-riesgo-y-evaluacion-impacto-en-tratamientos-datos-personales.pdf\"\n",
    "pdf6 = r\"https://ipyme.org/PUBLICACIONES_EMPRESAS/Ciclo%20Vital%20de%20la%20Empresa/CreacionEmpresas.pdf\""
   ]
  },
  {
   "cell_type": "code",
   "execution_count": 67,
   "metadata": {},
   "outputs": [],
   "source": [
    "urls = [pdf1, pdf2, pdf3, pdf4, pdf5, pdf6] #lista de urls de los pdfs"
   ]
  },
  {
   "cell_type": "markdown",
   "metadata": {},
   "source": [
    "#### PREPROCESAMIENTO DE LA DOCUMENTACION"
   ]
  },
  {
   "cell_type": "code",
   "execution_count": 68,
   "metadata": {},
   "outputs": [],
   "source": [
    "pages = []\n",
    "for url in urls:\n",
    "    loader = PyPDFLoader(url)\n",
    "    pages += loader.load_and_split()"
   ]
  },
  {
   "cell_type": "code",
   "execution_count": 69,
   "metadata": {},
   "outputs": [
    {
     "data": {
      "text/plain": [
       "931"
      ]
     },
     "execution_count": 69,
     "metadata": {},
     "output_type": "execute_result"
    }
   ],
   "source": [
    "len(pages) #numero de paginas"
   ]
  },
  {
   "cell_type": "code",
   "execution_count": 70,
   "metadata": {},
   "outputs": [
    {
     "data": {
      "text/plain": [
       "Document(metadata={'source': 'https://www.boe.es/boe/dias/2022/09/29/pdfs/BOE-A-2022-15818.pdf', 'page': 44}, page_content='b)\\u2003Revocación de la autorización.\\nc)\\u2003Prohibición de solicitar la autorización para operar como plataforma de \\nfinanciación participativa por un plazo no inferior a un año ni superior a cinco.\\nd)\\u2003Prohibición que impida a cualquier miembro del órgano de dirección de la \\npersona jurídica responsable de la infracción o a cualquier otra persona física \\nconsiderada responsable de la infracción ejercer funciones directivas en \\nproveedores de servicios de financiación participativa por plazo no superior a diez \\naños.\\ne)\\u2003Junto con las sanciones previstas en las letras a), b), c) y d), se podrán \\nadoptar las siguientes sanciones y medidas administrativas:\\n1.º\\u2003 Declaración pública en la que consten la persona física o jurídica \\nresponsable y la naturaleza de la infracción.\\n2.º\\u2003 Requerimiento dirigido a la persona física o jurídica para que ponga fin a \\nsu conducta infractora y se abstenga de repetirla.\\n2.\\u2003En el caso de incumplimientos de las obligaciones o prohibiciones \\nprevistas en el Reglamento (UE) 2020/1503 del Parlamento Europeo y del \\nConsejo, de 7 de octubre de 2020, que constituyan infracción grave, se impondrá \\nal infractor una o varias de las siguientes sanciones:\\na)\\u2003Multa por importe de hasta la mayor de las siguientes cantidades:\\n1.º\\u2003 El doble de los beneficios derivados de la infracción en caso de que \\npuedan determinarse.\\n2.º\\u2003 En el caso de una persona jurídica, 500.000 euros, o el 5 por ciento de su \\nvolumen de negocios total durante el ejercicio precedente, de acuerdo con los \\núltimos estados financieros disponibles aprobados por el órgano de dirección.\\n3.º\\u2003En el caso de una persona física, 500.000 euros.\\nb)\\u2003Suspensión de la autorización para operar como plataforma de \\nfinanciación participativa por un plazo no superior a un año.\\nc)\\u2003Prohibición de solicitar la autorización para operar como plataforma de \\nfinanciación participativa por un plazo no superior a un año.\\nd)\\u2003Prohibición que impida a cualquier miembro del órgano de dirección de la \\npersona jurídica responsable de la infracción o a cualquier otra persona física \\nconsiderada responsable de la infracción ejercer funciones directivas en \\nproveedores de servicios de financiación participativa por plazo no superior a un \\naño.\\ne)\\u2003Junto con las sanciones previstas en las letras a), b), c) y d), se podrán \\nadoptar las siguientes sanciones y medidas administrativas:\\n1.º\\u2003 Declaración pública en la que consten la persona física o jurídica \\nresponsable y la naturaleza de la infracción.\\n2.º\\u2003 Requerimiento dirigido a la persona física o jurídica para que ponga fin a \\nsu conducta infractora y se abstenga de repetirla.\\n3.\\u2003Cuando  la persona  jurídica  sea una empresa  matriz  o una filial de una \\nempresa  matriz  que deba  elaborar  cuentas  consolidadas  de conformidad  con \\nla Directiva  2013/34/UE  del Parlamento  Europeo  y del Consejo,  de 26 de junio \\nde 2013,  sobre  los estados  financieros  anuales,  los estados  financieros \\nconsolidados  y otros  informes  afines  de ciertos  tipos  de empresas,  por la que \\nse modifica  la Directiva  2006/43/CE  del Parlamento  Europeo  y del Consejo,  y \\nse derogan  las Directivas  78/660/CEE  y 83/349/CEE  del Consejo,  el volumen \\nde negocios  total anual  pertinente  será el volumen  de negocios  total anual,  o \\nel tipo de ingresos correspondientes, conforme a la legislación pertinente de la \\nUnión  Europea  en materia  de contabilidad,  de acuerdo  con las cuentas \\nBOLETÍN OFICIAL DEL ESTADO\\nNúm. 234 Jueves 29 de septiembre de 2022 Sec. I.   Pág. 133647\\ncve: BOE-A-2022-15818\\nVerificable en https://www.boe.es')"
      ]
     },
     "execution_count": 70,
     "metadata": {},
     "output_type": "execute_result"
    }
   ],
   "source": [
    "pages[54] #pagina 54"
   ]
  },
  {
   "cell_type": "markdown",
   "metadata": {},
   "source": [
    "#### CONFIGURACION DE LLM"
   ]
  },
  {
   "cell_type": "code",
   "execution_count": 71,
   "metadata": {},
   "outputs": [],
   "source": [
    "#openai.api_key = os.getenv(\"OPENAI_API_KEY\"),\n",
    "llm = ChatOpenAI(\n",
    "    model='gpt-4o',\n",
    "    api_key=OPENAI_API_KEY,\n",
    "    temperature=0\n",
    ")"
   ]
  },
  {
   "cell_type": "code",
   "execution_count": 72,
   "metadata": {},
   "outputs": [],
   "source": [
    "embedding = OpenAIEmbeddings() #nos permite transformar texto en vectores"
   ]
  },
  {
   "cell_type": "markdown",
   "metadata": {},
   "source": [
    "#### CREAR UN ALMACEN PARA ESOS VECTORES (DB)"
   ]
  },
  {
   "cell_type": "code",
   "execution_count": 73,
   "metadata": {},
   "outputs": [
    {
     "ename": "ValueError",
     "evalue": "Batch size 931 exceeds maximum batch size 166",
     "output_type": "error",
     "traceback": [
      "\u001b[1;31m---------------------------------------------------------------------------\u001b[0m",
      "\u001b[1;31mValueError\u001b[0m                                Traceback (most recent call last)",
      "Cell \u001b[1;32mIn[73], line 1\u001b[0m\n\u001b[1;32m----> 1\u001b[0m vectorstore \u001b[38;5;241m=\u001b[39m \u001b[43mChroma\u001b[49m\u001b[38;5;241;43m.\u001b[39;49m\u001b[43mfrom_documents\u001b[49m\u001b[43m(\u001b[49m\n\u001b[0;32m      2\u001b[0m \u001b[43m    \u001b[49m\u001b[43mdocuments\u001b[49m\u001b[43m \u001b[49m\u001b[38;5;241;43m=\u001b[39;49m\u001b[43m \u001b[49m\u001b[43mpages\u001b[49m\u001b[43m,\u001b[49m\n\u001b[0;32m      3\u001b[0m \u001b[43m    \u001b[49m\u001b[43membedding\u001b[49m\u001b[43m \u001b[49m\u001b[38;5;241;43m=\u001b[39;49m\u001b[43m \u001b[49m\u001b[43membedding\u001b[49m\n\u001b[0;32m      4\u001b[0m \u001b[43m)\u001b[49m\n",
      "File \u001b[1;32mc:\\Users\\osval\\OneDrive\\Documentos\\python\\OPENAIRAG\\OPENAIRAG\\lib\\site-packages\\langchain_community\\vectorstores\\chroma.py:878\u001b[0m, in \u001b[0;36mChroma.from_documents\u001b[1;34m(cls, documents, embedding, ids, collection_name, persist_directory, client_settings, client, collection_metadata, **kwargs)\u001b[0m\n\u001b[0;32m    876\u001b[0m texts \u001b[38;5;241m=\u001b[39m [doc\u001b[38;5;241m.\u001b[39mpage_content \u001b[38;5;28;01mfor\u001b[39;00m doc \u001b[38;5;129;01min\u001b[39;00m documents]\n\u001b[0;32m    877\u001b[0m metadatas \u001b[38;5;241m=\u001b[39m [doc\u001b[38;5;241m.\u001b[39mmetadata \u001b[38;5;28;01mfor\u001b[39;00m doc \u001b[38;5;129;01min\u001b[39;00m documents]\n\u001b[1;32m--> 878\u001b[0m \u001b[38;5;28;01mreturn\u001b[39;00m \u001b[38;5;28mcls\u001b[39m\u001b[38;5;241m.\u001b[39mfrom_texts(\n\u001b[0;32m    879\u001b[0m     texts\u001b[38;5;241m=\u001b[39mtexts,\n\u001b[0;32m    880\u001b[0m     embedding\u001b[38;5;241m=\u001b[39membedding,\n\u001b[0;32m    881\u001b[0m     metadatas\u001b[38;5;241m=\u001b[39mmetadatas,\n\u001b[0;32m    882\u001b[0m     ids\u001b[38;5;241m=\u001b[39mids,\n\u001b[0;32m    883\u001b[0m     collection_name\u001b[38;5;241m=\u001b[39mcollection_name,\n\u001b[0;32m    884\u001b[0m     persist_directory\u001b[38;5;241m=\u001b[39mpersist_directory,\n\u001b[0;32m    885\u001b[0m     client_settings\u001b[38;5;241m=\u001b[39mclient_settings,\n\u001b[0;32m    886\u001b[0m     client\u001b[38;5;241m=\u001b[39mclient,\n\u001b[0;32m    887\u001b[0m     collection_metadata\u001b[38;5;241m=\u001b[39mcollection_metadata,\n\u001b[0;32m    888\u001b[0m     \u001b[38;5;241m*\u001b[39m\u001b[38;5;241m*\u001b[39mkwargs,\n\u001b[0;32m    889\u001b[0m )\n",
      "File \u001b[1;32mc:\\Users\\osval\\OneDrive\\Documentos\\python\\OPENAIRAG\\OPENAIRAG\\lib\\site-packages\\langchain_community\\vectorstores\\chroma.py:842\u001b[0m, in \u001b[0;36mChroma.from_texts\u001b[1;34m(cls, texts, embedding, metadatas, ids, collection_name, persist_directory, client_settings, client, collection_metadata, **kwargs)\u001b[0m\n\u001b[0;32m    836\u001b[0m         chroma_collection\u001b[38;5;241m.\u001b[39madd_texts(\n\u001b[0;32m    837\u001b[0m             texts\u001b[38;5;241m=\u001b[39mbatch[\u001b[38;5;241m3\u001b[39m] \u001b[38;5;28;01mif\u001b[39;00m batch[\u001b[38;5;241m3\u001b[39m] \u001b[38;5;28;01melse\u001b[39;00m [],\n\u001b[0;32m    838\u001b[0m             metadatas\u001b[38;5;241m=\u001b[39mbatch[\u001b[38;5;241m2\u001b[39m] \u001b[38;5;28;01mif\u001b[39;00m batch[\u001b[38;5;241m2\u001b[39m] \u001b[38;5;28;01melse\u001b[39;00m \u001b[38;5;28;01mNone\u001b[39;00m,\n\u001b[0;32m    839\u001b[0m             ids\u001b[38;5;241m=\u001b[39mbatch[\u001b[38;5;241m0\u001b[39m],\n\u001b[0;32m    840\u001b[0m         )\n\u001b[0;32m    841\u001b[0m \u001b[38;5;28;01melse\u001b[39;00m:\n\u001b[1;32m--> 842\u001b[0m     \u001b[43mchroma_collection\u001b[49m\u001b[38;5;241;43m.\u001b[39;49m\u001b[43madd_texts\u001b[49m\u001b[43m(\u001b[49m\u001b[43mtexts\u001b[49m\u001b[38;5;241;43m=\u001b[39;49m\u001b[43mtexts\u001b[49m\u001b[43m,\u001b[49m\u001b[43m \u001b[49m\u001b[43mmetadatas\u001b[49m\u001b[38;5;241;43m=\u001b[39;49m\u001b[43mmetadatas\u001b[49m\u001b[43m,\u001b[49m\u001b[43m \u001b[49m\u001b[43mids\u001b[49m\u001b[38;5;241;43m=\u001b[39;49m\u001b[43mids\u001b[49m\u001b[43m)\u001b[49m\n\u001b[0;32m    843\u001b[0m \u001b[38;5;28;01mreturn\u001b[39;00m chroma_collection\n",
      "File \u001b[1;32mc:\\Users\\osval\\OneDrive\\Documentos\\python\\OPENAIRAG\\OPENAIRAG\\lib\\site-packages\\langchain_community\\vectorstores\\chroma.py:313\u001b[0m, in \u001b[0;36mChroma.add_texts\u001b[1;34m(self, texts, metadatas, ids, **kwargs)\u001b[0m\n\u001b[0;32m    311\u001b[0m             \u001b[38;5;28;01mraise\u001b[39;00m \u001b[38;5;167;01mValueError\u001b[39;00m(e\u001b[38;5;241m.\u001b[39margs[\u001b[38;5;241m0\u001b[39m] \u001b[38;5;241m+\u001b[39m \u001b[38;5;124m\"\u001b[39m\u001b[38;5;130;01m\\n\u001b[39;00m\u001b[38;5;130;01m\\n\u001b[39;00m\u001b[38;5;124m\"\u001b[39m \u001b[38;5;241m+\u001b[39m msg)\n\u001b[0;32m    312\u001b[0m         \u001b[38;5;28;01melse\u001b[39;00m:\n\u001b[1;32m--> 313\u001b[0m             \u001b[38;5;28;01mraise\u001b[39;00m e\n\u001b[0;32m    314\u001b[0m \u001b[38;5;28;01mif\u001b[39;00m empty_ids:\n\u001b[0;32m    315\u001b[0m     texts_without_metadatas \u001b[38;5;241m=\u001b[39m [texts[j] \u001b[38;5;28;01mfor\u001b[39;00m j \u001b[38;5;129;01min\u001b[39;00m empty_ids]\n",
      "File \u001b[1;32mc:\\Users\\osval\\OneDrive\\Documentos\\python\\OPENAIRAG\\OPENAIRAG\\lib\\site-packages\\langchain_community\\vectorstores\\chroma.py:299\u001b[0m, in \u001b[0;36mChroma.add_texts\u001b[1;34m(self, texts, metadatas, ids, **kwargs)\u001b[0m\n\u001b[0;32m    297\u001b[0m ids_with_metadata \u001b[38;5;241m=\u001b[39m [ids[idx] \u001b[38;5;28;01mfor\u001b[39;00m idx \u001b[38;5;129;01min\u001b[39;00m non_empty_ids]\n\u001b[0;32m    298\u001b[0m \u001b[38;5;28;01mtry\u001b[39;00m:\n\u001b[1;32m--> 299\u001b[0m     \u001b[38;5;28;43mself\u001b[39;49m\u001b[38;5;241;43m.\u001b[39;49m\u001b[43m_collection\u001b[49m\u001b[38;5;241;43m.\u001b[39;49m\u001b[43mupsert\u001b[49m\u001b[43m(\u001b[49m\n\u001b[0;32m    300\u001b[0m \u001b[43m        \u001b[49m\u001b[43mmetadatas\u001b[49m\u001b[38;5;241;43m=\u001b[39;49m\u001b[43mmetadatas\u001b[49m\u001b[43m,\u001b[49m\n\u001b[0;32m    301\u001b[0m \u001b[43m        \u001b[49m\u001b[43membeddings\u001b[49m\u001b[38;5;241;43m=\u001b[39;49m\u001b[43membeddings_with_metadatas\u001b[49m\u001b[43m,\u001b[49m\n\u001b[0;32m    302\u001b[0m \u001b[43m        \u001b[49m\u001b[43mdocuments\u001b[49m\u001b[38;5;241;43m=\u001b[39;49m\u001b[43mtexts_with_metadatas\u001b[49m\u001b[43m,\u001b[49m\n\u001b[0;32m    303\u001b[0m \u001b[43m        \u001b[49m\u001b[43mids\u001b[49m\u001b[38;5;241;43m=\u001b[39;49m\u001b[43mids_with_metadata\u001b[49m\u001b[43m,\u001b[49m\n\u001b[0;32m    304\u001b[0m \u001b[43m    \u001b[49m\u001b[43m)\u001b[49m\n\u001b[0;32m    305\u001b[0m \u001b[38;5;28;01mexcept\u001b[39;00m \u001b[38;5;167;01mValueError\u001b[39;00m \u001b[38;5;28;01mas\u001b[39;00m e:\n\u001b[0;32m    306\u001b[0m     \u001b[38;5;28;01mif\u001b[39;00m \u001b[38;5;124m\"\u001b[39m\u001b[38;5;124mExpected metadata value to be\u001b[39m\u001b[38;5;124m\"\u001b[39m \u001b[38;5;129;01min\u001b[39;00m \u001b[38;5;28mstr\u001b[39m(e):\n",
      "File \u001b[1;32mc:\\Users\\osval\\OneDrive\\Documentos\\python\\OPENAIRAG\\OPENAIRAG\\lib\\site-packages\\chromadb\\api\\models\\Collection.py:302\u001b[0m, in \u001b[0;36mCollection.upsert\u001b[1;34m(self, ids, embeddings, metadatas, documents, images, uris)\u001b[0m\n\u001b[0;32m    281\u001b[0m \u001b[38;5;250m\u001b[39m\u001b[38;5;124;03m\"\"\"Update the embeddings, metadatas or documents for provided ids, or create them if they don't exist.\u001b[39;00m\n\u001b[0;32m    282\u001b[0m \n\u001b[0;32m    283\u001b[0m \u001b[38;5;124;03mArgs:\u001b[39;00m\n\u001b[1;32m   (...)\u001b[0m\n\u001b[0;32m    290\u001b[0m \u001b[38;5;124;03m    None\u001b[39;00m\n\u001b[0;32m    291\u001b[0m \u001b[38;5;124;03m\"\"\"\u001b[39;00m\n\u001b[0;32m    292\u001b[0m (\n\u001b[0;32m    293\u001b[0m     ids,\n\u001b[0;32m    294\u001b[0m     embeddings,\n\u001b[1;32m   (...)\u001b[0m\n\u001b[0;32m    299\u001b[0m     ids, embeddings, metadatas, documents, images, uris\n\u001b[0;32m    300\u001b[0m )\n\u001b[1;32m--> 302\u001b[0m \u001b[38;5;28;43mself\u001b[39;49m\u001b[38;5;241;43m.\u001b[39;49m\u001b[43m_client\u001b[49m\u001b[38;5;241;43m.\u001b[39;49m\u001b[43m_upsert\u001b[49m\u001b[43m(\u001b[49m\n\u001b[0;32m    303\u001b[0m \u001b[43m    \u001b[49m\u001b[43mcollection_id\u001b[49m\u001b[38;5;241;43m=\u001b[39;49m\u001b[38;5;28;43mself\u001b[39;49m\u001b[38;5;241;43m.\u001b[39;49m\u001b[43mid\u001b[49m\u001b[43m,\u001b[49m\n\u001b[0;32m    304\u001b[0m \u001b[43m    \u001b[49m\u001b[43mids\u001b[49m\u001b[38;5;241;43m=\u001b[39;49m\u001b[43mids\u001b[49m\u001b[43m,\u001b[49m\n\u001b[0;32m    305\u001b[0m \u001b[43m    \u001b[49m\u001b[43membeddings\u001b[49m\u001b[38;5;241;43m=\u001b[39;49m\u001b[43membeddings\u001b[49m\u001b[43m,\u001b[49m\n\u001b[0;32m    306\u001b[0m \u001b[43m    \u001b[49m\u001b[43mmetadatas\u001b[49m\u001b[38;5;241;43m=\u001b[39;49m\u001b[43mmetadatas\u001b[49m\u001b[43m,\u001b[49m\n\u001b[0;32m    307\u001b[0m \u001b[43m    \u001b[49m\u001b[43mdocuments\u001b[49m\u001b[38;5;241;43m=\u001b[39;49m\u001b[43mdocuments\u001b[49m\u001b[43m,\u001b[49m\n\u001b[0;32m    308\u001b[0m \u001b[43m    \u001b[49m\u001b[43muris\u001b[49m\u001b[38;5;241;43m=\u001b[39;49m\u001b[43muris\u001b[49m\u001b[43m,\u001b[49m\n\u001b[0;32m    309\u001b[0m \u001b[43m\u001b[49m\u001b[43m)\u001b[49m\n",
      "File \u001b[1;32mc:\\Users\\osval\\OneDrive\\Documentos\\python\\OPENAIRAG\\OPENAIRAG\\lib\\site-packages\\chromadb\\telemetry\\opentelemetry\\__init__.py:146\u001b[0m, in \u001b[0;36mtrace_method.<locals>.decorator.<locals>.wrapper\u001b[1;34m(*args, **kwargs)\u001b[0m\n\u001b[0;32m    144\u001b[0m \u001b[38;5;28;01mglobal\u001b[39;00m tracer, granularity\n\u001b[0;32m    145\u001b[0m \u001b[38;5;28;01mif\u001b[39;00m trace_granularity \u001b[38;5;241m<\u001b[39m granularity:\n\u001b[1;32m--> 146\u001b[0m     \u001b[38;5;28;01mreturn\u001b[39;00m f(\u001b[38;5;241m*\u001b[39margs, \u001b[38;5;241m*\u001b[39m\u001b[38;5;241m*\u001b[39mkwargs)\n\u001b[0;32m    147\u001b[0m \u001b[38;5;28;01mif\u001b[39;00m \u001b[38;5;129;01mnot\u001b[39;00m tracer:\n\u001b[0;32m    148\u001b[0m     \u001b[38;5;28;01mreturn\u001b[39;00m f(\u001b[38;5;241m*\u001b[39margs, \u001b[38;5;241m*\u001b[39m\u001b[38;5;241m*\u001b[39mkwargs)\n",
      "File \u001b[1;32mc:\\Users\\osval\\OneDrive\\Documentos\\python\\OPENAIRAG\\OPENAIRAG\\lib\\site-packages\\chromadb\\api\\segment.py:430\u001b[0m, in \u001b[0;36mSegmentAPI._upsert\u001b[1;34m(self, collection_id, ids, embeddings, metadatas, documents, uris)\u001b[0m\n\u001b[0;32m    428\u001b[0m coll \u001b[38;5;241m=\u001b[39m \u001b[38;5;28mself\u001b[39m\u001b[38;5;241m.\u001b[39m_get_collection(collection_id)\n\u001b[0;32m    429\u001b[0m \u001b[38;5;28mself\u001b[39m\u001b[38;5;241m.\u001b[39m_manager\u001b[38;5;241m.\u001b[39mhint_use_collection(collection_id, t\u001b[38;5;241m.\u001b[39mOperation\u001b[38;5;241m.\u001b[39mUPSERT)\n\u001b[1;32m--> 430\u001b[0m \u001b[43mvalidate_batch\u001b[49m\u001b[43m(\u001b[49m\n\u001b[0;32m    431\u001b[0m \u001b[43m    \u001b[49m\u001b[43m(\u001b[49m\u001b[43mids\u001b[49m\u001b[43m,\u001b[49m\u001b[43m \u001b[49m\u001b[43membeddings\u001b[49m\u001b[43m,\u001b[49m\u001b[43m \u001b[49m\u001b[43mmetadatas\u001b[49m\u001b[43m,\u001b[49m\u001b[43m \u001b[49m\u001b[43mdocuments\u001b[49m\u001b[43m,\u001b[49m\u001b[43m \u001b[49m\u001b[43muris\u001b[49m\u001b[43m)\u001b[49m\u001b[43m,\u001b[49m\n\u001b[0;32m    432\u001b[0m \u001b[43m    \u001b[49m\u001b[43m{\u001b[49m\u001b[38;5;124;43m\"\u001b[39;49m\u001b[38;5;124;43mmax_batch_size\u001b[39;49m\u001b[38;5;124;43m\"\u001b[39;49m\u001b[43m:\u001b[49m\u001b[43m \u001b[49m\u001b[38;5;28;43mself\u001b[39;49m\u001b[38;5;241;43m.\u001b[39;49m\u001b[43mget_max_batch_size\u001b[49m\u001b[43m(\u001b[49m\u001b[43m)\u001b[49m\u001b[43m}\u001b[49m\u001b[43m,\u001b[49m\n\u001b[0;32m    433\u001b[0m \u001b[43m\u001b[49m\u001b[43m)\u001b[49m\n\u001b[0;32m    434\u001b[0m records_to_submit \u001b[38;5;241m=\u001b[39m \u001b[38;5;28mlist\u001b[39m(\n\u001b[0;32m    435\u001b[0m     _records(\n\u001b[0;32m    436\u001b[0m         t\u001b[38;5;241m.\u001b[39mOperation\u001b[38;5;241m.\u001b[39mUPSERT,\n\u001b[1;32m   (...)\u001b[0m\n\u001b[0;32m    442\u001b[0m     )\n\u001b[0;32m    443\u001b[0m )\n\u001b[0;32m    444\u001b[0m \u001b[38;5;28mself\u001b[39m\u001b[38;5;241m.\u001b[39m_validate_embedding_record_set(coll, records_to_submit)\n",
      "File \u001b[1;32mc:\\Users\\osval\\OneDrive\\Documentos\\python\\OPENAIRAG\\OPENAIRAG\\lib\\site-packages\\chromadb\\api\\types.py:571\u001b[0m, in \u001b[0;36mvalidate_batch\u001b[1;34m(batch, limits)\u001b[0m\n\u001b[0;32m    560\u001b[0m \u001b[38;5;28;01mdef\u001b[39;00m \u001b[38;5;21mvalidate_batch\u001b[39m(\n\u001b[0;32m    561\u001b[0m     batch: Tuple[\n\u001b[0;32m    562\u001b[0m         IDs,\n\u001b[1;32m   (...)\u001b[0m\n\u001b[0;32m    568\u001b[0m     limits: Dict[\u001b[38;5;28mstr\u001b[39m, Any],\n\u001b[0;32m    569\u001b[0m ) \u001b[38;5;241m-\u001b[39m\u001b[38;5;241m>\u001b[39m \u001b[38;5;28;01mNone\u001b[39;00m:\n\u001b[0;32m    570\u001b[0m     \u001b[38;5;28;01mif\u001b[39;00m \u001b[38;5;28mlen\u001b[39m(batch[\u001b[38;5;241m0\u001b[39m]) \u001b[38;5;241m>\u001b[39m limits[\u001b[38;5;124m\"\u001b[39m\u001b[38;5;124mmax_batch_size\u001b[39m\u001b[38;5;124m\"\u001b[39m]:\n\u001b[1;32m--> 571\u001b[0m         \u001b[38;5;28;01mraise\u001b[39;00m \u001b[38;5;167;01mValueError\u001b[39;00m(\n\u001b[0;32m    572\u001b[0m             \u001b[38;5;124mf\u001b[39m\u001b[38;5;124m\"\u001b[39m\u001b[38;5;124mBatch size \u001b[39m\u001b[38;5;132;01m{\u001b[39;00m\u001b[38;5;28mlen\u001b[39m(batch[\u001b[38;5;241m0\u001b[39m])\u001b[38;5;132;01m}\u001b[39;00m\u001b[38;5;124m exceeds maximum batch size \u001b[39m\u001b[38;5;132;01m{\u001b[39;00mlimits[\u001b[38;5;124m'\u001b[39m\u001b[38;5;124mmax_batch_size\u001b[39m\u001b[38;5;124m'\u001b[39m]\u001b[38;5;132;01m}\u001b[39;00m\u001b[38;5;124m\"\u001b[39m\n\u001b[0;32m    573\u001b[0m         )\n",
      "\u001b[1;31mValueError\u001b[0m: Batch size 931 exceeds maximum batch size 166"
     ]
    }
   ],
   "source": [
    "vectorstore = Chroma.from_documents(\n",
    "    documents = pages,\n",
    "    embedding = embedding\n",
    ")"
   ]
  },
  {
   "cell_type": "code",
   "execution_count": 74,
   "metadata": {},
   "outputs": [],
   "source": [
    "batch_size = 166  # El tamaño máximo permitido\n",
    "\n",
    "# Dividir los documentos en lotes más pequeños\n",
    "for i in range(0, len(pages), batch_size):\n",
    "    batch = pages[i:i + batch_size]\n",
    "    vectorstore = Chroma.from_documents(\n",
    "        documents=batch,\n",
    "        embedding=embedding\n",
    "    )"
   ]
  },
  {
   "cell_type": "code",
   "execution_count": 75,
   "metadata": {},
   "outputs": [],
   "source": [
    "retriever = vectorstore.as_retriever() #nos permite recuperar documentos similares a un texto de entrada"
   ]
  },
  {
   "cell_type": "markdown",
   "metadata": {},
   "source": [
    "#### PROMTING DE COMPORTAMIENTO"
   ]
  },
  {
   "cell_type": "code",
   "execution_count": 76,
   "metadata": {},
   "outputs": [],
   "source": [
    "template = \"\"\" \n",
    "\n",
    "        ###INSTRUCCIONES: \n",
    "        Eres un asistente IA del gobierno de España dedicado a responder preguntas empresariales de manera educada y profesional. Debes proporcionar una respuesta útil al usuario. \n",
    "        \n",
    "        En tu respuesta, POR FAVOR SIEMPRE:\n",
    "          (0) Sé un lector atento a los detalles: lee la pregunta y el contexto y entiende ambos antes de responder.\n",
    "          (1) Comienza tu respuesta con un tono amigable y reitera la pregunta para que el usuario esté seguro de que la entendiste.\n",
    "          (2) Si el contexto te permite responder a la pregunta, escribe una respuesta detallada y técnica, útil y fácil de entender, con fuentes referenciadas en el texto. SI NO: no puedes encontrar la respuesta, responde con una explicación, comenzando con: \"No pude encontrar la información en las leyes y documentos a los que tengo acceso\".\n",
    "          (3) Debajo de la respuesta, por favor enumera todas las fuentes referenciadas (es decir, párrafos legales que respaldan tus afirmaciones).\n",
    "          (4) Ahora que tienes tu respuesta, fantástico - revisa tu respuesta para asegurarte de que respondes a la pregunta, esta respuesta es útil y profesional , formateada para ser fácilmente legible.\n",
    "        \n",
    "        \n",
    "        PIENSA PASO POR PASO \n",
    "        ###\n",
    "        \n",
    "      Responde a la siguiente pregunta utilizando el contexto proporcionado.\n",
    "        ### Question: {question} ###\n",
    "        ### Context: {context} ###     \n",
    "        ### Respuesta Útil con Fuentes:\n",
    "\n",
    "\"\"\""
   ]
  },
  {
   "cell_type": "code",
   "execution_count": 77,
   "metadata": {},
   "outputs": [],
   "source": [
    "prompt = PromptTemplate.from_template(template)"
   ]
  },
  {
   "cell_type": "markdown",
   "metadata": {},
   "source": [
    "#### CADENA O CHAIN"
   ]
  },
  {
   "cell_type": "code",
   "execution_count": 78,
   "metadata": {},
   "outputs": [],
   "source": [
    "chain = (\n",
    "    {'context': retriever, 'question': RunnablePassthrough()}\n",
    "    | prompt\n",
    "    | llm\n",
    "    | StrOutputParser()\n",
    ")"
   ]
  },
  {
   "cell_type": "markdown",
   "metadata": {},
   "source": [
    "#### PREGUNTA DE CONTROL"
   ]
  },
  {
   "cell_type": "code",
   "execution_count": 79,
   "metadata": {},
   "outputs": [
    {
     "name": "stdout",
     "output_type": "stream",
     "text": [
      "¡Hola! Entiendo que estás interesado en conocer la documentación necesaria para montar una Sociedad Limitada (SL) en España. A continuación, te detallo los pasos y documentos requeridos para este proceso:\n",
      "\n",
      "1. **Certificación Negativa del Nombre**: Antes de constituir la sociedad, debes obtener una certificación negativa del nombre en el Registro Mercantil Central. Este documento acredita que no existe otra sociedad con el mismo nombre que deseas utilizar.\n",
      "\n",
      "2. **Documento de Identidad de los Socios**: Necesitarás el DNI o NIE de todos los socios que formarán parte de la sociedad.\n",
      "\n",
      "3. **Estatutos Sociales**: Debes redactar los estatutos sociales, que son las normas que regirán el funcionamiento de la sociedad. Estos deben incluir el objeto social, la duración, el domicilio social, y la identidad de los administradores, entre otros aspectos.\n",
      "\n",
      "4. **Acreditación del Desembolso del Capital Social**: Es necesario demostrar que se ha realizado el desembolso del capital social mínimo requerido, que para una SL es de 3.000 euros. Esto puede hacerse mediante un depósito en una cuenta bancaria a nombre de la sociedad en constitución.\n",
      "\n",
      "5. **Escritura Pública de Constitución**: La constitución de la sociedad debe formalizarse mediante escritura pública ante notario. Este documento incluirá los estatutos sociales y la certificación negativa del nombre.\n",
      "\n",
      "6. **Número de Identificación Fiscal (NIF)**: Debes obtener un NIF provisional para la sociedad, que se convertirá en definitivo una vez inscrita en el Registro Mercantil.\n",
      "\n",
      "7. **Inscripción en el Registro Mercantil**: La escritura de constitución debe inscribirse en el Registro Mercantil de la provincia donde se establezca el domicilio social de la empresa.\n",
      "\n",
      "8. **Liquidación del Impuesto sobre Transmisiones Patrimoniales y Actos Jurídicos Documentados**: Aunque la constitución de sociedades está exenta de este impuesto, es necesario presentar la liquidación.\n",
      "\n",
      "9. **Alta en el Censo de Empresarios, Profesionales y Retenedores**: Debes dar de alta la sociedad en la Agencia Tributaria para obtener el NIF definitivo y poder operar legalmente.\n",
      "\n",
      "10. **Otros Trámites**: Dependiendo de la actividad de la empresa, puede ser necesario obtener licencias específicas del ayuntamiento correspondiente y realizar otros registros.\n",
      "\n",
      "Estos son los pasos y documentos básicos necesarios para constituir una Sociedad Limitada en España. Es recomendable contar con el asesoramiento de un profesional para asegurar que todos los trámites se realicen correctamente.\n",
      "\n",
      "**Fuentes:**\n",
      "- [Creación de Empresas - IPYME](https://ipyme.org/PUBLICACIONES_EMPRESAS/Ciclo%20Vital%20de%20la%20Empresa/CreacionEmpresas.pdf) (Páginas 95, 99, 89, 39)\n"
     ]
    }
   ],
   "source": [
    "ans = chain.invoke(\"Que documentación necesito para montar una SL en España?\")\n",
    "print(ans)"
   ]
  },
  {
   "cell_type": "markdown",
   "metadata": {},
   "source": [
    "#### FUNCION DE RESPUESTA"
   ]
  },
  {
   "cell_type": "code",
   "execution_count": 80,
   "metadata": {},
   "outputs": [],
   "source": [
    "def get_answer(question):\n",
    "    return chain.invoke(question)"
   ]
  },
  {
   "cell_type": "markdown",
   "metadata": {},
   "source": [
    "#### INTERFAZ DE PRUEBA"
   ]
  },
  {
   "cell_type": "code",
   "execution_count": 81,
   "metadata": {},
   "outputs": [
    {
     "name": "stdout",
     "output_type": "stream",
     "text": [
      "Running on local URL:  http://127.0.0.1:7860\n",
      "\n",
      "To create a public link, set `share=True` in `launch()`.\n"
     ]
    },
    {
     "data": {
      "text/html": [
       "<div><iframe src=\"http://127.0.0.1:7860/\" width=\"100%\" height=\"500\" allow=\"autoplay; camera; microphone; clipboard-read; clipboard-write;\" frameborder=\"0\" allowfullscreen></iframe></div>"
      ],
      "text/plain": [
       "<IPython.core.display.HTML object>"
      ]
     },
     "metadata": {},
     "output_type": "display_data"
    },
    {
     "data": {
      "text/plain": []
     },
     "execution_count": 81,
     "metadata": {},
     "output_type": "execute_result"
    }
   ],
   "source": [
    "iface = gr.Interface(fn=get_answer, inputs=gr.Textbox(\n",
    "    value=\"Pregúntame lo que necesites\"),\n",
    "    live=False, \n",
    "    outputs=\"markdown\",  \n",
    "    title=\"Inteligencia sobre documentación mediante LLM, APIS y DBVectoriales\",\n",
    "    description=\"Puedes preguntar cualquier pregunta la creación de empresas en España\",\n",
    "    theme=gr.themes.Soft(),\n",
    "    allow_flagging=\"never\",)\n",
    "\n",
    "iface.launch()"
   ]
  },
  {
   "cell_type": "markdown",
   "metadata": {},
   "source": [
    "#### GUARDAMOS NUESTRA DB CHROMA EN UN ARCHIVO"
   ]
  },
  {
   "cell_type": "code",
   "execution_count": 35,
   "metadata": {},
   "outputs": [],
   "source": [
    "persist_directory = \"chromadb\"\n",
    "vectordb = Chroma.from_documents(documents=pages, embedding=embedding,\n",
    "                                 persist_directory=persist_directory)\n",
    "vectordb.persist()"
   ]
  }
 ],
 "metadata": {
  "kernelspec": {
   "display_name": "OPENAIRAG",
   "language": "python",
   "name": "python3"
  },
  "language_info": {
   "codemirror_mode": {
    "name": "ipython",
    "version": 3
   },
   "file_extension": ".py",
   "mimetype": "text/x-python",
   "name": "python",
   "nbconvert_exporter": "python",
   "pygments_lexer": "ipython3",
   "version": "3.9.5"
  }
 },
 "nbformat": 4,
 "nbformat_minor": 2
}
